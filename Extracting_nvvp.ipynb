{
 "cells": [
  {
   "cell_type": "code",
   "execution_count": 1,
   "metadata": {},
   "outputs": [],
   "source": [
    "import matplotlib.pyplot as plt\n",
    "import matplotlib as mpl\n",
    "# label_size = 16\n",
    "# text_size = 22\n",
    "# mpl.rcParams['xtick.labelsize'] = label_size\n",
    "# mpl.rcParams['ytick.labelsize'] = label_size\n",
    "# mpl.rcParams['lines.linewidth'] = 1\n",
    "# mpl.rcParams['legend.fontsize'] = 16\n",
    "# #mpl.rcParams['legend.linewidth'] = 4\n",
    "# mpl.rcParams['axes.titlesize'] = text_size\n",
    "# mpl.rcParams['axes.labelsize'] = 20\n",
    "mpl.rcParams['figure.figsize'] = (20,15)\n",
    "mpl.rcParams['figure.dpi'] = 1200\n",
    "mpl.rcParams['figure.autolayout'] = False\n",
    "import seaborn as sns\n",
    "plt.style.use('seaborn-darkgrid')\n",
    "import IPython as ip\n",
    "ip.core.display.set_matplotlib_formats('png', 'jpeg', quality=90)\n",
    "%matplotlib inline"
   ]
  },
  {
   "cell_type": "code",
   "execution_count": 2,
   "metadata": {},
   "outputs": [],
   "source": [
    "import pandas as pd \n",
    "import sqlite3"
   ]
  },
  {
   "cell_type": "markdown",
   "metadata": {},
   "source": [
    "```__PREFETCH=off nvprof --print-gpu-trace --aggregate-mode off --event-collection-mode continuous --system-profiling on --kernel-latency-timestamps on --output-profile test3_3.prof --csv --log-file test3_10.csv  -f ./test3```"
   ]
  },
  {
   "cell_type": "code",
   "execution_count": 27,
   "metadata": {},
   "outputs": [],
   "source": [
    "def get_power_values(x):\n",
    "    # covert x into string\n",
    "    y = str(x)\n",
    "    return int(y.split('/')[0]) / 1000.\n",
    "\n",
    "def get_freq_values(x):\n",
    "    # covert x into string\n",
    "    y = str(x)\n",
    "    return int(y.split('/')[0])\n"
   ]
  },
  {
   "cell_type": "code",
   "execution_count": 45,
   "metadata": {},
   "outputs": [],
   "source": [
    "system_types = {'freq':['[SM/Memory Clock (MHz)]',get_freq_values],\n",
    " 'temp':['[Temperature (C)]', float ],\n",
    " 'pwr':['[Power/Limit (mW)]',get_power_values]}"
   ]
  },
  {
   "cell_type": "code",
   "execution_count": 46,
   "metadata": {},
   "outputs": [],
   "source": [
    "def read_nvprof_gpu_trace(trace, tag=\"\", tag_it=False):\n",
    "    list_of_lines = []\n",
    "    with open(trace) as f:\n",
    "        lines = f.readlines()\n",
    "\n",
    "        for line in lines:\n",
    "            if \"==\" in line:\n",
    "                continue\n",
    "            arr = line.strip().split(',')\n",
    "            arr = [i.strip(\"\\\"\") for i in arr] \n",
    "            list_of_lines.append(arr)\n",
    "    titles = list_of_lines[0]\n",
    "    if tag_it:\n",
    "        titles = [tag+\"_\"+t for t in titles]\n",
    "    print(titles)\n",
    "    data = list_of_lines[2:]\n",
    "#     print(len(data))\n",
    "    data = [ d for d in data if len(d) == len(titles)]\n",
    "#     return titles, data\n",
    "    print(len(data))\n",
    "    df = pd.DataFrame(data=data, columns=titles)\n",
    "    df.to_csv(\"temp_out\")\n",
    "    df = pd.read_csv(\"temp_out\", index_col=0)\n",
    "    units = {i:j for i,j in zip(list_of_lines[0],list_of_lines[1])}\n",
    "    devices = list(df.Device.unique())\n",
    "    kind = list(df.Name.unique())\n",
    "    kind_dict = {k:i for i,k in enumerate(kind)}\n",
    "    df['ones'] = df['Name']\n",
    "    df.ones = df.ones.replace(kind_dict)\n",
    "    print(kind_dict)\n",
    "    \n",
    "    for k,v in system_types.items():\n",
    "        df[k] = df[(df.Name == v[0])].System.apply(v[1])\n",
    "\n",
    "    return df, units, devices, kind"
   ]
  },
  {
   "cell_type": "code",
   "execution_count": 47,
   "metadata": {},
   "outputs": [],
   "source": [
    "# t,d =read_nvprof_gpu_trace(\"test1_1024.csv\")"
   ]
  },
  {
   "cell_type": "code",
   "execution_count": 48,
   "metadata": {},
   "outputs": [
    {
     "data": {
      "text/plain": [
       "['[SM/Memory Clock (MHz)]',\n",
       " '[Temperature (C)]',\n",
       " '[Power/Limit (mW)]',\n",
       " '[CUDA memcpy DtoH]',\n",
       " '[CUDA memcpy HtoD]',\n",
       " 'volta_sgemm_128x32_sliced1x4_nn']"
      ]
     },
     "execution_count": 48,
     "metadata": {},
     "output_type": "execute_result"
    }
   ],
   "source": [
    "kind"
   ]
  },
  {
   "cell_type": "code",
   "execution_count": 49,
   "metadata": {},
   "outputs": [],
   "source": [
    "# for i,v in enumerate(d):\n",
    "#     if len(v) != len(t):\n",
    "#         print(i, len(v))"
   ]
  },
  {
   "cell_type": "code",
   "execution_count": null,
   "metadata": {},
   "outputs": [],
   "source": []
  },
  {
   "cell_type": "code",
   "execution_count": 50,
   "metadata": {},
   "outputs": [
    {
     "name": "stdout",
     "output_type": "stream",
     "text": [
      "['Start', 'Duration', 'Grid X', 'Grid Y', 'Grid Z', 'Block X', 'Block Y', 'Block Z', 'Registers Per Thread', 'Static SMem', 'Dynamic SMem', 'Size', 'Throughput', 'SrcMemType', 'DstMemType', 'Device', 'Context', 'Stream', 'System', 'Name', 'Correlation_ID']\n",
      "105104\n"
     ]
    },
    {
     "name": "stderr",
     "output_type": "stream",
     "text": [
      "/opt/anaconda3/lib/python3.6/site-packages/IPython/core/interactiveshell.py:2903: DtypeWarning: Columns (14,15) have mixed types. Specify dtype option on import or set low_memory=False.\n",
      "  if self.run_code(code, result):\n"
     ]
    },
    {
     "name": "stdout",
     "output_type": "stream",
     "text": [
      "{'[SM/Memory Clock (MHz)]': 0, '[Temperature (C)]': 1, '[Power/Limit (mW)]': 2, '[CUDA memcpy DtoH]': 3, '[CUDA memcpy HtoD]': 4, 'volta_sgemm_128x32_sliced1x4_nn': 5}\n",
      "['Start', 'Duration', 'Grid X', 'Grid Y', 'Grid Z', 'Block X', 'Block Y', 'Block Z', 'Registers Per Thread', 'Static SMem', 'Dynamic SMem', 'Size', 'Throughput', 'SrcMemType', 'DstMemType', 'Device', 'Context', 'Stream', 'System', 'Name', 'Correlation_ID']\n",
      "216805\n",
      "{'[SM/Memory Clock (MHz)]': 0, '[Temperature (C)]': 1, '[Power/Limit (mW)]': 2, '[CUDA memcpy DtoH]': 3, '[CUDA memcpy HtoD]': 4, 'volta_sgemm_128x32_sliced1x4_nn': 5}\n"
     ]
    }
   ],
   "source": [
    "wdf, units, devices, kind = read_nvprof_gpu_trace(\"test1_32768_100.csv\")\n",
    "df, units, devices, kind = read_nvprof_gpu_trace(\"test2_2.csv\")\n",
    "# df, units, devices, kind = read_nvprof_gpu_trace(\"test2_1.csv\")\n",
    "# df, units, devices, kind = read_nvprof_gpu_trace(\"test2_2.csv\")"
   ]
  },
  {
   "cell_type": "code",
   "execution_count": 51,
   "metadata": {},
   "outputs": [
    {
     "data": {
      "text/html": [
       "<div>\n",
       "<style scoped>\n",
       "    .dataframe tbody tr th:only-of-type {\n",
       "        vertical-align: middle;\n",
       "    }\n",
       "\n",
       "    .dataframe tbody tr th {\n",
       "        vertical-align: top;\n",
       "    }\n",
       "\n",
       "    .dataframe thead th {\n",
       "        text-align: right;\n",
       "    }\n",
       "</style>\n",
       "<table border=\"1\" class=\"dataframe\">\n",
       "  <thead>\n",
       "    <tr style=\"text-align: right;\">\n",
       "      <th></th>\n",
       "      <th>Start</th>\n",
       "      <th>Duration</th>\n",
       "      <th>Grid X</th>\n",
       "      <th>Grid Y</th>\n",
       "      <th>Grid Z</th>\n",
       "      <th>Block X</th>\n",
       "      <th>Block Y</th>\n",
       "      <th>Block Z</th>\n",
       "      <th>Registers Per Thread</th>\n",
       "      <th>Static SMem</th>\n",
       "      <th>...</th>\n",
       "      <th>Device</th>\n",
       "      <th>Context</th>\n",
       "      <th>Stream</th>\n",
       "      <th>System</th>\n",
       "      <th>Name</th>\n",
       "      <th>Correlation_ID</th>\n",
       "      <th>ones</th>\n",
       "      <th>freq</th>\n",
       "      <th>temp</th>\n",
       "      <th>pwr</th>\n",
       "    </tr>\n",
       "  </thead>\n",
       "  <tbody>\n",
       "    <tr>\n",
       "      <th>216800</th>\n",
       "      <td>1051.692726</td>\n",
       "      <td>NaN</td>\n",
       "      <td>NaN</td>\n",
       "      <td>NaN</td>\n",
       "      <td>NaN</td>\n",
       "      <td>NaN</td>\n",
       "      <td>NaN</td>\n",
       "      <td>NaN</td>\n",
       "      <td>NaN</td>\n",
       "      <td>NaN</td>\n",
       "      <td>...</td>\n",
       "      <td>Tesla V100-SXM2-16GB (3)</td>\n",
       "      <td>NaN</td>\n",
       "      <td>NaN</td>\n",
       "      <td>36</td>\n",
       "      <td>[Temperature (C)]</td>\n",
       "      <td>NaN</td>\n",
       "      <td>1</td>\n",
       "      <td>NaN</td>\n",
       "      <td>36.0</td>\n",
       "      <td>NaN</td>\n",
       "    </tr>\n",
       "    <tr>\n",
       "      <th>216801</th>\n",
       "      <td>1051.693740</td>\n",
       "      <td>NaN</td>\n",
       "      <td>NaN</td>\n",
       "      <td>NaN</td>\n",
       "      <td>NaN</td>\n",
       "      <td>NaN</td>\n",
       "      <td>NaN</td>\n",
       "      <td>NaN</td>\n",
       "      <td>NaN</td>\n",
       "      <td>NaN</td>\n",
       "      <td>...</td>\n",
       "      <td>Tesla V100-SXM2-16GB (0)</td>\n",
       "      <td>NaN</td>\n",
       "      <td>NaN</td>\n",
       "      <td>77388/300000</td>\n",
       "      <td>[Power/Limit (mW)]</td>\n",
       "      <td>NaN</td>\n",
       "      <td>2</td>\n",
       "      <td>NaN</td>\n",
       "      <td>NaN</td>\n",
       "      <td>77.388</td>\n",
       "    </tr>\n",
       "    <tr>\n",
       "      <th>216802</th>\n",
       "      <td>1051.694741</td>\n",
       "      <td>NaN</td>\n",
       "      <td>NaN</td>\n",
       "      <td>NaN</td>\n",
       "      <td>NaN</td>\n",
       "      <td>NaN</td>\n",
       "      <td>NaN</td>\n",
       "      <td>NaN</td>\n",
       "      <td>NaN</td>\n",
       "      <td>NaN</td>\n",
       "      <td>...</td>\n",
       "      <td>Tesla V100-SXM2-16GB (1)</td>\n",
       "      <td>NaN</td>\n",
       "      <td>NaN</td>\n",
       "      <td>62300/300000</td>\n",
       "      <td>[Power/Limit (mW)]</td>\n",
       "      <td>NaN</td>\n",
       "      <td>2</td>\n",
       "      <td>NaN</td>\n",
       "      <td>NaN</td>\n",
       "      <td>62.300</td>\n",
       "    </tr>\n",
       "    <tr>\n",
       "      <th>216803</th>\n",
       "      <td>1051.695816</td>\n",
       "      <td>NaN</td>\n",
       "      <td>NaN</td>\n",
       "      <td>NaN</td>\n",
       "      <td>NaN</td>\n",
       "      <td>NaN</td>\n",
       "      <td>NaN</td>\n",
       "      <td>NaN</td>\n",
       "      <td>NaN</td>\n",
       "      <td>NaN</td>\n",
       "      <td>...</td>\n",
       "      <td>Tesla V100-SXM2-16GB (2)</td>\n",
       "      <td>NaN</td>\n",
       "      <td>NaN</td>\n",
       "      <td>39911/300000</td>\n",
       "      <td>[Power/Limit (mW)]</td>\n",
       "      <td>NaN</td>\n",
       "      <td>2</td>\n",
       "      <td>NaN</td>\n",
       "      <td>NaN</td>\n",
       "      <td>39.911</td>\n",
       "    </tr>\n",
       "    <tr>\n",
       "      <th>216804</th>\n",
       "      <td>1051.696847</td>\n",
       "      <td>NaN</td>\n",
       "      <td>NaN</td>\n",
       "      <td>NaN</td>\n",
       "      <td>NaN</td>\n",
       "      <td>NaN</td>\n",
       "      <td>NaN</td>\n",
       "      <td>NaN</td>\n",
       "      <td>NaN</td>\n",
       "      <td>NaN</td>\n",
       "      <td>...</td>\n",
       "      <td>Tesla V100-SXM2-16GB (3)</td>\n",
       "      <td>NaN</td>\n",
       "      <td>NaN</td>\n",
       "      <td>39963/300000</td>\n",
       "      <td>[Power/Limit (mW)]</td>\n",
       "      <td>NaN</td>\n",
       "      <td>2</td>\n",
       "      <td>NaN</td>\n",
       "      <td>NaN</td>\n",
       "      <td>39.963</td>\n",
       "    </tr>\n",
       "  </tbody>\n",
       "</table>\n",
       "<p>5 rows × 25 columns</p>\n",
       "</div>"
      ],
      "text/plain": [
       "              Start  Duration  Grid X  Grid Y  Grid Z  Block X  Block Y  \\\n",
       "216800  1051.692726       NaN     NaN     NaN     NaN      NaN      NaN   \n",
       "216801  1051.693740       NaN     NaN     NaN     NaN      NaN      NaN   \n",
       "216802  1051.694741       NaN     NaN     NaN     NaN      NaN      NaN   \n",
       "216803  1051.695816       NaN     NaN     NaN     NaN      NaN      NaN   \n",
       "216804  1051.696847       NaN     NaN     NaN     NaN      NaN      NaN   \n",
       "\n",
       "        Block Z  Registers Per Thread  Static SMem   ...    \\\n",
       "216800      NaN                   NaN          NaN   ...     \n",
       "216801      NaN                   NaN          NaN   ...     \n",
       "216802      NaN                   NaN          NaN   ...     \n",
       "216803      NaN                   NaN          NaN   ...     \n",
       "216804      NaN                   NaN          NaN   ...     \n",
       "\n",
       "                          Device  Context  Stream        System  \\\n",
       "216800  Tesla V100-SXM2-16GB (3)      NaN     NaN            36   \n",
       "216801  Tesla V100-SXM2-16GB (0)      NaN     NaN  77388/300000   \n",
       "216802  Tesla V100-SXM2-16GB (1)      NaN     NaN  62300/300000   \n",
       "216803  Tesla V100-SXM2-16GB (2)      NaN     NaN  39911/300000   \n",
       "216804  Tesla V100-SXM2-16GB (3)      NaN     NaN  39963/300000   \n",
       "\n",
       "                      Name Correlation_ID  ones  freq  temp     pwr  \n",
       "216800   [Temperature (C)]            NaN     1   NaN  36.0     NaN  \n",
       "216801  [Power/Limit (mW)]            NaN     2   NaN   NaN  77.388  \n",
       "216802  [Power/Limit (mW)]            NaN     2   NaN   NaN  62.300  \n",
       "216803  [Power/Limit (mW)]            NaN     2   NaN   NaN  39.911  \n",
       "216804  [Power/Limit (mW)]            NaN     2   NaN   NaN  39.963  \n",
       "\n",
       "[5 rows x 25 columns]"
      ]
     },
     "execution_count": 51,
     "metadata": {},
     "output_type": "execute_result"
    }
   ],
   "source": [
    "df.tail()"
   ]
  },
  {
   "cell_type": "code",
   "execution_count": 52,
   "metadata": {},
   "outputs": [
    {
     "data": {
      "text/plain": [
       "{'Start': 's',\n",
       " 'Duration': 's',\n",
       " 'Grid X': '',\n",
       " 'Grid Y': '',\n",
       " 'Grid Z': '',\n",
       " 'Block X': '',\n",
       " 'Block Y': '',\n",
       " 'Block Z': '',\n",
       " 'Registers Per Thread': '',\n",
       " 'Static SMem': 'KB',\n",
       " 'Dynamic SMem': 'B',\n",
       " 'Size': 'GB',\n",
       " 'Throughput': 'GB/s',\n",
       " 'SrcMemType': '',\n",
       " 'DstMemType': '',\n",
       " 'Device': '',\n",
       " 'Context': '',\n",
       " 'Stream': '',\n",
       " 'System': '',\n",
       " 'Name': '',\n",
       " 'Correlation_ID': ''}"
      ]
     },
     "execution_count": 52,
     "metadata": {},
     "output_type": "execute_result"
    }
   ],
   "source": [
    "units"
   ]
  },
  {
   "cell_type": "code",
   "execution_count": 53,
   "metadata": {},
   "outputs": [
    {
     "data": {
      "text/plain": [
       "['[SM/Memory Clock (MHz)]',\n",
       " '[Temperature (C)]',\n",
       " '[Power/Limit (mW)]',\n",
       " '[CUDA memcpy DtoH]',\n",
       " '[CUDA memcpy HtoD]',\n",
       " 'volta_sgemm_128x32_sliced1x4_nn']"
      ]
     },
     "execution_count": 53,
     "metadata": {},
     "output_type": "execute_result"
    }
   ],
   "source": [
    "kind"
   ]
  },
  {
   "cell_type": "code",
   "execution_count": 54,
   "metadata": {},
   "outputs": [],
   "source": [
    "# kind_dict = {k:i for i,k in enumerate(kind)}"
   ]
  },
  {
   "cell_type": "code",
   "execution_count": 55,
   "metadata": {},
   "outputs": [
    {
     "name": "stderr",
     "output_type": "stream",
     "text": [
      "/opt/anaconda3/lib/python3.6/site-packages/matplotlib/axes/_axes.py:6462: UserWarning: The 'normed' kwarg is deprecated, and has been replaced by the 'density' kwarg.\n",
      "  warnings.warn(\"The 'normed' kwarg is deprecated, and has been \"\n"
     ]
    },
    {
     "data": {
      "text/plain": [
       "<matplotlib.axes._subplots.AxesSubplot at 0x7f5747555cf8>"
      ]
     },
     "execution_count": 55,
     "metadata": {},
     "output_type": "execute_result"
    },
    {
     "data": {
      "image/png": "[encoded data removed]",
      "text/plain": [
       "<Figure size 432x288 with 1 Axes>"
      ]
     },
     "metadata": {},
     "output_type": "display_data"
    }
   ],
   "source": [
    "a = df[(df.Device == devices[0])& (df.Name == kind[-2])]['Duration']\n",
    "sns.distplot(a)"
   ]
  },
  {
   "cell_type": "code",
   "execution_count": 56,
   "metadata": {},
   "outputs": [],
   "source": [
    "# df[(df.Device == devices[0])& (df.Name == kind[-1])].describe()"
   ]
  },
  {
   "cell_type": "code",
   "execution_count": 57,
   "metadata": {},
   "outputs": [],
   "source": [
    "# df['ones'] = df['Name']"
   ]
  },
  {
   "cell_type": "code",
   "execution_count": 58,
   "metadata": {},
   "outputs": [],
   "source": [
    "# df.ones = df.ones.replace(kind_dict)"
   ]
  },
  {
   "cell_type": "code",
   "execution_count": 59,
   "metadata": {},
   "outputs": [
    {
     "data": {
      "text/plain": [
       "1051.6968470000002"
      ]
     },
     "execution_count": 59,
     "metadata": {},
     "output_type": "execute_result"
    }
   ],
   "source": [
    "df.Start.max()"
   ]
  },
  {
   "cell_type": "code",
   "execution_count": 60,
   "metadata": {},
   "outputs": [
    {
     "data": {
      "text/plain": [
       "525.223253"
      ]
     },
     "execution_count": 60,
     "metadata": {},
     "output_type": "execute_result"
    }
   ],
   "source": [
    "wdf.Start.max()"
   ]
  },
  {
   "cell_type": "code",
   "execution_count": 61,
   "metadata": {},
   "outputs": [],
   "source": [
    "a = df[(df.Device == devices[0]) & ((df.Start > 205) & (df.Start < 210.5)) ]\n",
    "b = wdf[(wdf.Device == devices[0]) & ((wdf.Start >201.5) & (wdf.Start < 207 ))]"
   ]
  },
  {
   "cell_type": "code",
   "execution_count": 62,
   "metadata": {},
   "outputs": [
    {
     "data": {
      "text/plain": [
       "<matplotlib.legend.Legend at 0x7f57475681d0>"
      ]
     },
     "execution_count": 62,
     "metadata": {},
     "output_type": "execute_result"
    },
    {
     "data": {
      "image/png": "[encoded data removed]",
      "text/plain": [
       "<Figure size 432x288 with 1 Axes>"
      ]
     },
     "metadata": {},
     "output_type": "display_data"
    }
   ],
   "source": [
    "sns.pointplot(x='Start', y='ones', hue='Name', data=a)\n",
    "plt.legend(bbox_to_anchor=(1.05, 1), loc=2, borderaxespad=0.)"
   ]
  },
  {
   "cell_type": "code",
   "execution_count": 63,
   "metadata": {},
   "outputs": [
    {
     "data": {
      "text/plain": [
       "<matplotlib.legend.Legend at 0x7f5745d39e80>"
      ]
     },
     "execution_count": 63,
     "metadata": {},
     "output_type": "execute_result"
    },
    {
     "data": {
      "image/png": "[encoded data removed]",
      "text/plain": [
       "<Figure size 432x288 with 1 Axes>"
      ]
     },
     "metadata": {},
     "output_type": "display_data"
    }
   ],
   "source": [
    "sns.pointplot(x='Start', y='ones', hue='Name', data=b)\n",
    "plt.legend(bbox_to_anchor=(1.05, 1), loc=2, borderaxespad=0.)"
   ]
  },
  {
   "cell_type": "code",
   "execution_count": 64,
   "metadata": {},
   "outputs": [
    {
     "data": {
      "text/plain": [
       "<matplotlib.legend.Legend at 0x7f574153ce80>"
      ]
     },
     "execution_count": 64,
     "metadata": {},
     "output_type": "execute_result"
    },
    {
     "data": {
      "image/png": "[encoded data removed]",
      "text/plain": [
       "<Figure size 432x288 with 1 Axes>"
      ]
     },
     "metadata": {},
     "output_type": "display_data"
    }
   ],
   "source": [
    "sns.pointplot(x='Start', y='freq', hue='Name', data=b)\n",
    "plt.legend(bbox_to_anchor=(1.05, 1), loc=2, borderaxespad=0.)"
   ]
  },
  {
   "cell_type": "code",
   "execution_count": 68,
   "metadata": {},
   "outputs": [
    {
     "data": {
      "text/plain": [
       "<matplotlib.legend.Legend at 0x7f571350c898>"
      ]
     },
     "execution_count": 68,
     "metadata": {},
     "output_type": "execute_result"
    },
    {
     "data": {
      "image/png": "[encoded data removed]",
      "text/plain": [
       "<Figure size 432x288 with 1 Axes>"
      ]
     },
     "metadata": {},
     "output_type": "display_data"
    }
   ],
   "source": [
    "sns.pointplot(x='Start', y='pwr', hue='Name', data=b)\n",
    "plt.legend(bbox_to_anchor=(1.05, 1), loc=2, borderaxespad=0.)"
   ]
  },
  {
   "cell_type": "code",
   "execution_count": 23,
   "metadata": {},
   "outputs": [
    {
     "name": "stderr",
     "output_type": "stream",
     "text": [
      "/opt/anaconda3/lib/python3.6/site-packages/ipykernel_launcher.py:1: UserWarning: Boolean Series key will be reindexed to match DataFrame index.\n",
      "  \"\"\"Entry point for launching an IPython kernel.\n"
     ]
    },
    {
     "data": {
      "text/html": [
       "<div>\n",
       "<style scoped>\n",
       "    .dataframe tbody tr th:only-of-type {\n",
       "        vertical-align: middle;\n",
       "    }\n",
       "\n",
       "    .dataframe tbody tr th {\n",
       "        vertical-align: top;\n",
       "    }\n",
       "\n",
       "    .dataframe thead th {\n",
       "        text-align: right;\n",
       "    }\n",
       "</style>\n",
       "<table border=\"1\" class=\"dataframe\">\n",
       "  <thead>\n",
       "    <tr style=\"text-align: right;\">\n",
       "      <th></th>\n",
       "      <th>Start</th>\n",
       "    </tr>\n",
       "  </thead>\n",
       "  <tbody>\n",
       "    <tr>\n",
       "      <th>60513</th>\n",
       "      <td>293.675486</td>\n",
       "    </tr>\n",
       "    <tr>\n",
       "      <th>61586</th>\n",
       "      <td>298.890140</td>\n",
       "    </tr>\n",
       "    <tr>\n",
       "      <th>62667</th>\n",
       "      <td>304.104430</td>\n",
       "    </tr>\n",
       "    <tr>\n",
       "      <th>63740</th>\n",
       "      <td>309.319191</td>\n",
       "    </tr>\n",
       "    <tr>\n",
       "      <th>64814</th>\n",
       "      <td>314.533956</td>\n",
       "    </tr>\n",
       "    <tr>\n",
       "      <th>65889</th>\n",
       "      <td>319.748524</td>\n",
       "    </tr>\n",
       "    <tr>\n",
       "      <th>66960</th>\n",
       "      <td>324.964096</td>\n",
       "    </tr>\n",
       "    <tr>\n",
       "      <th>68044</th>\n",
       "      <td>330.178939</td>\n",
       "    </tr>\n",
       "    <tr>\n",
       "      <th>69117</th>\n",
       "      <td>335.394273</td>\n",
       "    </tr>\n",
       "  </tbody>\n",
       "</table>\n",
       "</div>"
      ],
      "text/plain": [
       "            Start\n",
       "60513  293.675486\n",
       "61586  298.890140\n",
       "62667  304.104430\n",
       "63740  309.319191\n",
       "64814  314.533956\n",
       "65889  319.748524\n",
       "66960  324.964096\n",
       "68044  330.178939\n",
       "69117  335.394273"
      ]
     },
     "execution_count": 23,
     "metadata": {},
     "output_type": "execute_result"
    }
   ],
   "source": [
    "df[60000:100000][(df.Device == devices[0]) & (df.Name == kind[-1])][['Start']]"
   ]
  },
  {
   "cell_type": "code",
   "execution_count": null,
   "metadata": {},
   "outputs": [],
   "source": [
    "wdf[60000:100000][(wdf.Device == devices[0]) & (wdf.Name == kind[-1])]['Start']"
   ]
  },
  {
   "cell_type": "code",
   "execution_count": null,
   "metadata": {},
   "outputs": [],
   "source": [
    "def get_power_values(x):\n",
    "    # covert x into string\n",
    "    y = str(x)\n",
    "    return int(y.split('/')[0]) / 1000."
   ]
  },
  {
   "cell_type": "code",
   "execution_count": null,
   "metadata": {},
   "outputs": [],
   "source": [
    "wdf[60000:100000][(wdf.Device == devices[0]) & (wdf.Name == kind[-1])]['Duration'].describe()"
   ]
  },
  {
   "cell_type": "code",
   "execution_count": null,
   "metadata": {},
   "outputs": [],
   "source": [
    "wdf[60000:100000][(wdf.Device == devices[0]) & (wdf.Name == kind[2])][['System', 'Start']]\n"
   ]
  },
  {
   "cell_type": "code",
   "execution_count": null,
   "metadata": {},
   "outputs": [],
   "source": [
    "wdf[60000:100000][(wdf.Device == devices[0]) & (wdf.Name == kind[2])]['System'].apply(get_power_values).plot(kind='line')\n"
   ]
  },
  {
   "cell_type": "code",
   "execution_count": null,
   "metadata": {},
   "outputs": [],
   "source": [
    "df[:][(df.Device == devices[0]) & (df.Name == kind[2])]['System'].apply(get_power_values).plot(kind='line')"
   ]
  },
  {
   "cell_type": "code",
   "execution_count": null,
   "metadata": {},
   "outputs": [],
   "source": [
    "df[20544:21600][(df.Device == devices[0]) & (df.Name == kind[1])]['System'].apply(int).plot(title=\"Temperature\")"
   ]
  },
  {
   "cell_type": "code",
   "execution_count": null,
   "metadata": {},
   "outputs": [],
   "source": [
    "def get_freq_values(x):\n",
    "    # covert x into string\n",
    "    y = str(x)\n",
    "    return int(y.split('/')[0])"
   ]
  },
  {
   "cell_type": "code",
   "execution_count": null,
   "metadata": {},
   "outputs": [],
   "source": [
    "df[20544:21600][(df.Device == devices[0]) & (df.Name == kind[0])]['System'].apply(get_freq_values).plot()"
   ]
  },
  {
   "cell_type": "code",
   "execution_count": null,
   "metadata": {},
   "outputs": [],
   "source": [
    "df[:][(df.Device == devices[0]) & (df.Name == kind[0])]['System'].apply(get_freq_values).plot()"
   ]
  },
  {
   "cell_type": "code",
   "execution_count": null,
   "metadata": {},
   "outputs": [],
   "source": [
    "def read_sql_tables(filename):\n",
    "    con = sqlite3.connect(filename)\n",
    "    cursor = con.cursor()\n",
    "    cursor.execute(\"SELECT name FROM sqlite_master WHERE type='table';\")\n",
    "    tables = cursor.fetchall()\n",
    "    dict_of_dfs = {}\n",
    "    for t in tables:\n",
    "        dict_of_dfs[t[0]] = pd.read_sql(f\"SELECT * from {t[0]}\", con)\n",
    "    return dict_of_dfs"
   ]
  },
  {
   "cell_type": "code",
   "execution_count": null,
   "metadata": {},
   "outputs": [],
   "source": [
    "analysis = read_sql_tables(\"test3.prof\")"
   ]
  },
  {
   "cell_type": "code",
   "execution_count": null,
   "metadata": {},
   "outputs": [],
   "source": [
    "analysis_1 = read_sql_tables(\"test3_3.prof\")"
   ]
  },
  {
   "cell_type": "code",
   "execution_count": null,
   "metadata": {},
   "outputs": [],
   "source": [
    "for key in analysis.keys():\n",
    "    print(key)"
   ]
  },
  {
   "cell_type": "code",
   "execution_count": null,
   "metadata": {},
   "outputs": [],
   "source": [
    "df = analysis_1['CUPTI_ACTIVITY_KIND_DRIVER']"
   ]
  },
  {
   "cell_type": "code",
   "execution_count": null,
   "metadata": {},
   "outputs": [],
   "source": [
    "df.describe()"
   ]
  },
  {
   "cell_type": "code",
   "execution_count": null,
   "metadata": {},
   "outputs": [],
   "source": [
    "analysis_1['CUPTI_ACTIVITY_KIND_ENVIRONMENT']"
   ]
  },
  {
   "cell_type": "code",
   "execution_count": null,
   "metadata": {},
   "outputs": [],
   "source": []
  }
 ],
 "metadata": {
  "kernelspec": {
   "display_name": "Python 3",
   "language": "python",
   "name": "python3"
  },
  "language_info": {
   "codemirror_mode": {
    "name": "ipython",
    "version": 3
   },
   "file_extension": ".py",
   "mimetype": "text/x-python",
   "name": "python",
   "nbconvert_exporter": "python",
   "pygments_lexer": "ipython3",
   "version": "3.6.5"
  }
 },
 "nbformat": 4,
 "nbformat_minor": 2
}
